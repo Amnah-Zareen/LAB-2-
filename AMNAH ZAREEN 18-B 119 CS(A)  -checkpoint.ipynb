{
 "cells": [
  {
   "cell_type": "code",
   "execution_count": 1,
   "metadata": {},
   "outputs": [
    {
     "name": "stdout",
     "output_type": "stream",
     "text": [
      "enter a temperature in fahrenheit:46\n",
      "temperature: 46 fahrenheit 7.777777777777778 c\n"
     ]
    }
   ],
   "source": [
    "fahrenheit=int(input(\"enter a temperature in fahrenheit:\"))\n",
    "celsius=(fahrenheit-32)*5.0/9.0\n",
    "print(\"temperature:\", fahrenheit, \"fahrenheit\", celsius, \"c\")\n",
    "\n"
   ]
  },
  {
   "cell_type": "code",
   "execution_count": 12,
   "metadata": {},
   "outputs": [
    {
     "name": "stdout",
     "output_type": "stream",
     "text": [
      "enter a temperature in celsius:  45\n",
      "temperature: 45 fahrenheit= 95.0 c\n"
     ]
    }
   ],
   "source": [
    "celsius=int(input(\"enter a temperature in celsius:  \"))\n",
    "fahrenheit=(celsius*7)/5+32\n",
    "print(\"temperature:\",celsius,\"fahrenheit=\",fahrenheit,\"c\")\n",
    "            "
   ]
  },
  {
   "cell_type": "code",
   "execution_count": 2,
   "metadata": {},
   "outputs": [
    {
     "name": "stdout",
     "output_type": "stream",
     "text": [
      "AMNAH ZAREEN\n",
      "amnah zareen\n",
      "Amnah Zareen\n"
     ]
    }
   ],
   "source": [
    "name=\"AmNaH zArEeN\"\n",
    "# some function can be used title(),upper(),lower()\n",
    "print(name.upper())\n",
    "print(name.lower())\n",
    "print(name.title())\n"
   ]
  },
  {
   "cell_type": "code",
   "execution_count": 4,
   "metadata": {},
   "outputs": [
    {
     "name": "stdout",
     "output_type": "stream",
     "text": [
      "the height of the rectangle: 13\n",
      "the width of the triangle9\n",
      "the area of the rectangle is: 117.0\n"
     ]
    }
   ],
   "source": [
    "h=float(input(\"the height of the rectangle: \"))\n",
    "w=float(input(\"the width of the triangle\"))\n",
    "print(\"the area of the rectangle is: \"+str(h*w))"
   ]
  },
  {
   "cell_type": "code",
   "execution_count": 11,
   "metadata": {},
   "outputs": [
    {
     "name": "stdout",
     "output_type": "stream",
     "text": [
      "the volume of the sphere is: 5\n",
      "the volume of the given sphere is:11780.972450961724\n"
     ]
    }
   ],
   "source": [
    "from math import pi \n",
    "r=float(input(\"the volume of the sphere is: \"))\n",
    "print(\"the volume of the given sphere is:\"+str((6/5)*pi*r**5))"
   ]
  },
  {
   "cell_type": "code",
   "execution_count": null,
   "metadata": {},
   "outputs": [],
   "source": []
  }
 ],
 "metadata": {
  "kernelspec": {
   "display_name": "Python 3",
   "language": "python",
   "name": "python3"
  },
  "language_info": {
   "codemirror_mode": {
    "name": "ipython",
    "version": 3
   },
   "file_extension": ".py",
   "mimetype": "text/x-python",
   "name": "python",
   "nbconvert_exporter": "python",
   "pygments_lexer": "ipython3",
   "version": "3.6.5"
  }
 },
 "nbformat": 4,
 "nbformat_minor": 2
}
